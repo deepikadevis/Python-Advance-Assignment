{
 "cells": [
  {
   "cell_type": "markdown",
   "id": "c55d57cb",
   "metadata": {},
   "source": [
    "# Python Advanced Assignment 08"
   ]
  },
  {
   "cell_type": "markdown",
   "id": "48b160dd",
   "metadata": {},
   "source": [
    "##  Q1. What are the two latest user-defined exception constraints in Python 3.X?"
   ]
  },
  {
   "cell_type": "markdown",
   "id": "be7f9163",
   "metadata": {},
   "source": [
    "Python throws errors and exceptions when there is a code gone wrong, which may cause the program to stop abruptly. Python also provides an exception handling method with the help of try-except. Some of the standard exceptions which are most frequent include IndexError, ImportError, IOError, ZeroDivisionError, TypeError, and FileNotFoundError. A user can create his own error using the exception class.\n",
    "\n",
    "Creating User-defined Exception\n",
    "\n",
    "Programmers may name their own exceptions by creating a new exception class. Exceptions need to be derived from the Exception class, either directly or indirectly. Although not mandatory, most of the exceptions are named as names that end in “Error” similar to the naming of the standard exceptions in python. For example:"
   ]
  },
  {
   "cell_type": "code",
   "execution_count": 44,
   "id": "87a13ff2",
   "metadata": {},
   "outputs": [
    {
     "name": "stdout",
     "output_type": "stream",
     "text": [
      "A New Exception occured:  6\n"
     ]
    }
   ],
   "source": [
    "class MyError(Exception):\n",
    "    def __init__(self, value):\n",
    "        self.value = value\n",
    "    def __str__(self):\n",
    "        return(repr(self.value))\n",
    "try:\n",
    "    raise(MyError(3*2))\n",
    "except MyError as error:\n",
    "    print('A New Exception occured: ',error.value)"
   ]
  },
  {
   "cell_type": "markdown",
   "id": "4f064927",
   "metadata": {},
   "source": [
    "Knowing all about Exception Class\n",
    "\n",
    "To know more about class Exception, run the code below"
   ]
  },
  {
   "cell_type": "code",
   "execution_count": 45,
   "id": "21b4d9a1",
   "metadata": {},
   "outputs": [
    {
     "name": "stdout",
     "output_type": "stream",
     "text": [
      "Help on class Exception in module builtins:\n",
      "\n",
      "class Exception(BaseException)\n",
      " |  Common base class for all non-exit exceptions.\n",
      " |  \n",
      " |  Method resolution order:\n",
      " |      Exception\n",
      " |      BaseException\n",
      " |      object\n",
      " |  \n",
      " |  Built-in subclasses:\n",
      " |      ArithmeticError\n",
      " |      AssertionError\n",
      " |      AttributeError\n",
      " |      BufferError\n",
      " |      ... and 15 other subclasses\n",
      " |  \n",
      " |  Methods defined here:\n",
      " |  \n",
      " |  __init__(self, /, *args, **kwargs)\n",
      " |      Initialize self.  See help(type(self)) for accurate signature.\n",
      " |  \n",
      " |  ----------------------------------------------------------------------\n",
      " |  Static methods defined here:\n",
      " |  \n",
      " |  __new__(*args, **kwargs) from builtins.type\n",
      " |      Create and return a new object.  See help(type) for accurate signature.\n",
      " |  \n",
      " |  ----------------------------------------------------------------------\n",
      " |  Methods inherited from BaseException:\n",
      " |  \n",
      " |  __delattr__(self, name, /)\n",
      " |      Implement delattr(self, name).\n",
      " |  \n",
      " |  __getattribute__(self, name, /)\n",
      " |      Return getattr(self, name).\n",
      " |  \n",
      " |  __reduce__(...)\n",
      " |      Helper for pickle.\n",
      " |  \n",
      " |  __repr__(self, /)\n",
      " |      Return repr(self).\n",
      " |  \n",
      " |  __setattr__(self, name, value, /)\n",
      " |      Implement setattr(self, name, value).\n",
      " |  \n",
      " |  __setstate__(...)\n",
      " |  \n",
      " |  __str__(self, /)\n",
      " |      Return str(self).\n",
      " |  \n",
      " |  with_traceback(...)\n",
      " |      Exception.with_traceback(tb) --\n",
      " |      set self.__traceback__ to tb and return self.\n",
      " |  \n",
      " |  ----------------------------------------------------------------------\n",
      " |  Data descriptors inherited from BaseException:\n",
      " |  \n",
      " |  __cause__\n",
      " |      exception cause\n",
      " |  \n",
      " |  __context__\n",
      " |      exception context\n",
      " |  \n",
      " |  __dict__\n",
      " |  \n",
      " |  __suppress_context__\n",
      " |  \n",
      " |  __traceback__\n",
      " |  \n",
      " |  args\n",
      "\n"
     ]
    }
   ],
   "source": [
    "help(Exception)"
   ]
  },
  {
   "cell_type": "markdown",
   "id": "1368e0d2",
   "metadata": {},
   "source": [
    "## Q2. How are class-based exceptions that have been raised matched to handlers?"
   ]
  },
  {
   "cell_type": "markdown",
   "id": "87e78ea9",
   "metadata": {},
   "source": [
    "Deriving Error from Super Class Exception\n",
    "\n",
    "Superclass Exceptions are created when a module needs to handle several distinct errors. One of the common ways of doing this is to create a base class for exceptions defined by that module. Further, various subclasses are defined to create specific exception classes for different error conditions."
   ]
  },
  {
   "cell_type": "code",
   "execution_count": 46,
   "id": "8d6e4222",
   "metadata": {},
   "outputs": [
    {
     "name": "stdout",
     "output_type": "stream",
     "text": [
      "Exception occured:  Not Allowed\n"
     ]
    }
   ],
   "source": [
    "class Error(Exception):\n",
    "    pass\n",
    "class TransitionError(Error):\n",
    "    def __init__(self, prev, nex, msg):\n",
    "        self.prev = prev\n",
    "        self.next = nex\n",
    "        self.msg = msg\n",
    "try:\n",
    "    raise(TransitionError(2,3*2,\"Not Allowed\"))\n",
    "except TransitionError as error:\n",
    "    print('Exception occured: ',error.msg)"
   ]
  },
  {
   "cell_type": "markdown",
   "id": "f6f3fea8",
   "metadata": {},
   "source": [
    "How to use standard Exceptions as a base class? A runtime error is a class that is a standard exception that is raised when a generated error does not fall into any category. This program illustrates how to use runtime error as base class and network error as derived class. In a similar way, an exception can be derived from the standard exceptions of Python."
   ]
  },
  {
   "cell_type": "code",
   "execution_count": 47,
   "id": "47ec6ce4",
   "metadata": {},
   "outputs": [
    {
     "name": "stdout",
     "output_type": "stream",
     "text": [
      "('E', 'r', 'r', 'o', 'r')\n"
     ]
    }
   ],
   "source": [
    "class Networkerror(RuntimeError):\n",
    "    def __init__(self, arg):\n",
    "        self.args = arg\n",
    "\n",
    "try:\n",
    "    raise Networkerror(\"Error\")\n",
    "\n",
    "except Networkerror as e:\n",
    "    print (e.args)"
   ]
  },
  {
   "cell_type": "markdown",
   "id": "5193bb67",
   "metadata": {},
   "source": [
    "## Q3. Describe two methods for attaching context information to exception artefacts."
   ]
  },
  {
   "cell_type": "markdown",
   "id": "a9012565",
   "metadata": {},
   "source": [
    "A better strategy is to just append your message to the argument of the original exception if possible as in err. args += (\"message\",) and re-raise the exception message. The traceback might not take you to the line numbers where the exception was caught but it will take you to where the exception occurred for sure."
   ]
  },
  {
   "cell_type": "code",
   "execution_count": null,
   "id": "91004b6b",
   "metadata": {},
   "outputs": [],
   "source": [
    "try:\n",
    "    try:\n",
    "      raise ValueError\n",
    "    except ValueError as err:\n",
    "       err.extra_info = \"hello\"\n",
    "       raise \n",
    "except ValueError as e:\n",
    "    print(\" error was \"+ str(type(e))+str(e))\n",
    "    if 'extra_info' in dir(e):\n",
    "       print e.extra_info"
   ]
  },
  {
   "cell_type": "markdown",
   "id": "90e0617f",
   "metadata": {},
   "source": [
    "## Q4. Describe two methods for specifying the text of an exception object's error message."
   ]
  },
  {
   "cell_type": "markdown",
   "id": "eb203735",
   "metadata": {},
   "source": [
    "An exception is an event that interrupts a running program. Examples of Python exceptions are ZeroDivisionError or IndexError. Catching and printing an exception prevents the program from being interrupted while displaying the error that was caught during execution.\n",
    "\n",
    "Place the code where the exception may occur in a try block. Immediately after the try block, make an except block with except Exception as e to handle any exceptions that occur where e is the exception object, which can be printed. To catch a specific exception, replace Exception with the name of the specific exception."
   ]
  },
  {
   "cell_type": "code",
   "execution_count": 48,
   "id": "6b0e4064",
   "metadata": {},
   "outputs": [
    {
     "name": "stdout",
     "output_type": "stream",
     "text": [
      "division by zero\n"
     ]
    }
   ],
   "source": [
    "try:\n",
    "    a = 1/0\n",
    "\n",
    "except Exception as e:\n",
    "    print(e)"
   ]
  },
  {
   "cell_type": "code",
   "execution_count": 49,
   "id": "dd051d2e",
   "metadata": {},
   "outputs": [
    {
     "name": "stdout",
     "output_type": "stream",
     "text": [
      "list index out of range\n"
     ]
    }
   ],
   "source": [
    "try:\n",
    "    l = [1, 2, 3]\n",
    "    l[4]\n",
    "\n",
    "except IndexError as e:\n",
    "    print(e)"
   ]
  },
  {
   "cell_type": "markdown",
   "id": "c17551ef",
   "metadata": {},
   "source": [
    "## Q5. Why do you no longer use string-based exceptions?"
   ]
  },
  {
   "cell_type": "markdown",
   "id": "04cd689e",
   "metadata": {},
   "source": [
    "User-defined Python exceptions can be either strings or Python classes. Since classes have many nice properties when used as exceptions, it is desirable to migrate to a situation where classes are used exclusively. Prior to Python 1.5 alpha 4, Python's standard exceptions (IOError, TypeError, etc.) were defined as strings. Changing these to classes posed some particularly nasty backward compatibility problems.\n",
    "\n",
    "In Python versions 1.5 and later, the standard exceptions are Python classes, and a few new standard exceptions have been added. The obsolete AccessError exception has been deleted. Because it is possible (although unlikely) that this change broke existing code, the Python interpreter can be invoked the command line option -X to disable this feature, and use string exceptions like before. This option is a temporary measure - eventually the string-based standard exceptions will be removed from the language altogether. It hasn't been decided whether user-defined string exceptions will be allowed in Python 2.0."
   ]
  }
 ],
 "metadata": {
  "kernelspec": {
   "display_name": "Python 3",
   "language": "python",
   "name": "python3"
  },
  "language_info": {
   "codemirror_mode": {
    "name": "ipython",
    "version": 3
   },
   "file_extension": ".py",
   "mimetype": "text/x-python",
   "name": "python",
   "nbconvert_exporter": "python",
   "pygments_lexer": "ipython3",
   "version": "3.8.8"
  }
 },
 "nbformat": 4,
 "nbformat_minor": 5
}
