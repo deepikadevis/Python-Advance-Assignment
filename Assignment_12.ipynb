{
 "cells": [
  {
   "cell_type": "markdown",
   "id": "c55d57cb",
   "metadata": {},
   "source": [
    "# Python Advanced Assignment 12"
   ]
  },
  {
   "cell_type": "markdown",
   "id": "48b160dd",
   "metadata": {},
   "source": [
    "##  Q1. Does assigning a value to a string's indexed character violate Python's string immutability?"
   ]
  },
  {
   "cell_type": "markdown",
   "id": "f76a61f0",
   "metadata": {},
   "source": [
    "One final thing that makes strings different from some other Python collection types is that you are not allowed to modify the individual characters in the collection. It is tempting to use the [] operator on the left side of an assignment, with the intention of changing a character in a string. For example, in the following code, we would like to change the first letter of greeting."
   ]
  },
  {
   "cell_type": "code",
   "execution_count": 7,
   "id": "b6b14275",
   "metadata": {},
   "outputs": [
    {
     "ename": "TypeError",
     "evalue": "'str' object does not support item assignment",
     "output_type": "error",
     "traceback": [
      "\u001b[1;31m---------------------------------------------------------------------------\u001b[0m",
      "\u001b[1;31mTypeError\u001b[0m                                 Traceback (most recent call last)",
      "\u001b[1;32m<ipython-input-7-635c1b9842b9>\u001b[0m in \u001b[0;36m<module>\u001b[1;34m\u001b[0m\n\u001b[0;32m      1\u001b[0m \u001b[0mgreeting\u001b[0m \u001b[1;33m=\u001b[0m \u001b[1;34m\"Hello, world!\"\u001b[0m\u001b[1;33m\u001b[0m\u001b[1;33m\u001b[0m\u001b[0m\n\u001b[1;32m----> 2\u001b[1;33m \u001b[0mgreeting\u001b[0m\u001b[1;33m[\u001b[0m\u001b[1;36m0\u001b[0m\u001b[1;33m]\u001b[0m \u001b[1;33m=\u001b[0m \u001b[1;34m'J'\u001b[0m            \u001b[1;31m# ERROR!\u001b[0m\u001b[1;33m\u001b[0m\u001b[1;33m\u001b[0m\u001b[0m\n\u001b[0m\u001b[0;32m      3\u001b[0m \u001b[0mprint\u001b[0m\u001b[1;33m(\u001b[0m\u001b[0mgreeting\u001b[0m\u001b[1;33m)\u001b[0m\u001b[1;33m\u001b[0m\u001b[1;33m\u001b[0m\u001b[0m\n",
      "\u001b[1;31mTypeError\u001b[0m: 'str' object does not support item assignment"
     ]
    }
   ],
   "source": [
    "greeting = \"Hello, world!\"\n",
    "greeting[0] = 'J'            # ERROR!\n",
    "print(greeting)"
   ]
  },
  {
   "cell_type": "markdown",
   "id": "0da67b11",
   "metadata": {},
   "source": [
    "Instead of producing the output Jello, world!, this code produces the runtime error TypeError: 'str' object does not support item assignment.\n",
    "\n",
    "Strings are immutable, which means you cannot change an existing string. The best you can do is create a new string that is a variation on the original."
   ]
  },
  {
   "cell_type": "code",
   "execution_count": 8,
   "id": "6408703b",
   "metadata": {},
   "outputs": [
    {
     "name": "stdout",
     "output_type": "stream",
     "text": [
      "Jello, world!\n",
      "Hello, world!\n"
     ]
    }
   ],
   "source": [
    "greeting = \"Hello, world!\"\n",
    "newGreeting = 'J' + greeting[1:]\n",
    "print(newGreeting)\n",
    "print(greeting)  "
   ]
  },
  {
   "cell_type": "markdown",
   "id": "dfe2c514",
   "metadata": {},
   "source": [
    "The solution here is to concatenate a new first letter onto a slice of greeting. This operation has no effect on the original string."
   ]
  },
  {
   "cell_type": "markdown",
   "id": "1368e0d2",
   "metadata": {},
   "source": [
    "## Q2. Does using the += operator to concatenate strings violate Python's string immutability? Why or why not?"
   ]
  },
  {
   "cell_type": "markdown",
   "id": "689d2c86",
   "metadata": {},
   "source": [
    "The easiest way of concatenating strings is to use the + or the += operator. The + operator is used both for adding numbers and strings; in programming we say that the operator is overloaded."
   ]
  },
  {
   "cell_type": "code",
   "execution_count": 9,
   "id": "fcdf5d17",
   "metadata": {},
   "outputs": [
    {
     "name": "stdout",
     "output_type": "stream",
     "text": [
      "old tree\n"
     ]
    }
   ],
   "source": [
    "a = 'old'\n",
    "b = ' tree'\n",
    "\n",
    "c = a + b\n",
    "print(c)"
   ]
  },
  {
   "cell_type": "markdown",
   "id": "a7312d5f",
   "metadata": {},
   "source": [
    "Two strings are added using the + operator.\n",
    "\n",
    "In the second example, we use the compound addition operator."
   ]
  },
  {
   "cell_type": "code",
   "execution_count": 10,
   "id": "dbd9c9bd",
   "metadata": {},
   "outputs": [
    {
     "name": "stdout",
     "output_type": "stream",
     "text": [
      "There are three falcons in the sky\n"
     ]
    }
   ],
   "source": [
    "msg = 'There are'\n",
    "\n",
    "msg += ' three falcons'\n",
    "msg += ' in the sky'\n",
    "\n",
    "print(msg)"
   ]
  },
  {
   "cell_type": "markdown",
   "id": "7d17e959",
   "metadata": {},
   "source": [
    "The example builds a message with the += operator."
   ]
  },
  {
   "cell_type": "markdown",
   "id": "22b161a8",
   "metadata": {},
   "source": [
    "## Q3. In Python, how many different ways are there to index a character?"
   ]
  },
  {
   "cell_type": "markdown",
   "id": "9c8d80c7",
   "metadata": {},
   "source": [
    "Indexing means referring to an element of an iterable by its position within the iterable. Each of a string’s characters corresponds to an index number and each character can be accessed using their index number.\n",
    "\n",
    "Accessing Characters by Positive Index Number Accessing Characters by Negative Index Number\n",
    "\n",
    "Accessing Characters by Positive Index Number: In this type of Indexing, we pass a Positive index(which we want to access) in square brackets. The index number start from index number 0 (which denotes the first character of a string)."
   ]
  },
  {
   "cell_type": "code",
   "execution_count": 11,
   "id": "f89e1853",
   "metadata": {},
   "outputs": [
    {
     "name": "stdout",
     "output_type": "stream",
     "text": [
      "d\n",
      "a\n",
      "v\n"
     ]
    }
   ],
   "source": [
    "str = \"deepika devi loves python !\"\n",
    "print(str[0])\n",
    "print(str[6])\n",
    "print(str[10])"
   ]
  },
  {
   "cell_type": "markdown",
   "id": "36ef6924",
   "metadata": {},
   "source": [
    "Accessing Characters by Negative Index Number : In this type of Indexing, we pass the Negative index(which we want to access) in square brackets. Here the index number starts from index number -1 (which denotes the last character of a string). Example 2 (Negative Indexing) :"
   ]
  },
  {
   "cell_type": "code",
   "execution_count": 12,
   "id": "48f2e4d4",
   "metadata": {},
   "outputs": [
    {
     "name": "stdout",
     "output_type": "stream",
     "text": [
      "!\n",
      "a\n",
      " \n"
     ]
    }
   ],
   "source": [
    "str = \"One Neuron for all !\"\n",
    "print(str[-1])\n",
    "print(str[-5])\n",
    "print(str[-10])"
   ]
  },
  {
   "cell_type": "markdown",
   "id": "df9c071a",
   "metadata": {},
   "source": [
    "Slicing Slicing in Python is a feature that enables accessing parts of sequence. In slicing string, we create a substring, which is essentially a string that exists within another string. We use slicing when we require a part of string and not the complete string. Syntax :"
   ]
  },
  {
   "cell_type": "code",
   "execution_count": null,
   "id": "99b93823",
   "metadata": {},
   "outputs": [],
   "source": [
    "string[start : end : step]\n",
    "start : We provide the starting index.\n",
    "end : We provide the end index(this is not included in substring).\n",
    "step : It is an optional argument that determines the increment between each index for slicing."
   ]
  },
  {
   "cell_type": "code",
   "execution_count": 13,
   "id": "2f91246e",
   "metadata": {},
   "outputs": [
    {
     "name": "stdout",
     "output_type": "stream",
     "text": [
      "One\n",
      "n \n",
      "!larfn\n"
     ]
    }
   ],
   "source": [
    "str =\"One Neuron for all !\"\n",
    "print(str[: 3]) \n",
    "print(str[1 : 5 : 2]) \n",
    "print(str[-1 : -12 : -2])"
   ]
  },
  {
   "cell_type": "markdown",
   "id": "84eaa9f7",
   "metadata": {},
   "source": [
    "## Q4. What is the relationship between indexing and slicing?"
   ]
  },
  {
   "cell_type": "markdown",
   "id": "5d772ff7",
   "metadata": {},
   "source": [
    "“Indexing” means referring to an element of an iterable by its position within the iterable.\n",
    "\n",
    "Indexing To retrieve an element of the list, we use the index operator ([]):\n",
    "\n",
    "Lists are “zero indexed”, so [0] returns the zero-th (i.e. the left-most) item in the list, and [1] returns the one-th item (i.e. one item to the right of the zero-th item). Since there are 9 elements in our list ([0] through [8]), attempting to access my_list[9] throws an IndexError: list index out of range, since it is actually trying to get the tenth element, and there isn’t one. Python also allows you to index from the end of the list using a negative number, where [-1] returns the last element. This is super-useful since it means you don’t have to programmatically find out the length of the iterable in order to work with elements at the end of it. The indices and reverse indices of my_list are as follows:"
   ]
  },
  {
   "cell_type": "code",
   "execution_count": null,
   "id": "cb203a06",
   "metadata": {},
   "outputs": [],
   "source": [
    "0    1    2    3    4    5    6    7    8\n",
    "  ↓    ↓    ↓    ↓    ↓    ↓    ↓    ↓    ↓\n",
    "['a', 'b', 'c', 'd', 'e', 'f', 'g', 'h', 'i']\n",
    "  ↑    ↑    ↑    ↑    ↑    ↑    ↑    ↑    ↑\n",
    " -9   -8   -7   -6   -5   -4   -3   -2   -1"
   ]
  },
  {
   "cell_type": "markdown",
   "id": "9bfc2a80",
   "metadata": {},
   "source": [
    "“Slicing” means getting a subset of elements from an iterable based on their indices.\n",
    "\n",
    "A slice is a subset of list elements. In the case of lists, a single slice will always be of contiguous elements. Slice notation takes the form"
   ]
  },
  {
   "cell_type": "code",
   "execution_count": 16,
   "id": "b3436eab",
   "metadata": {},
   "outputs": [
    {
     "data": {
      "text/plain": [
       "'a'"
      ]
     },
     "execution_count": 16,
     "metadata": {},
     "output_type": "execute_result"
    }
   ],
   "source": [
    "my_list[0]\n",
    "'a'"
   ]
  },
  {
   "cell_type": "code",
   "execution_count": 17,
   "id": "c1a91288",
   "metadata": {},
   "outputs": [
    {
     "data": {
      "text/plain": [
       "['a', 'b', 'c', 'd', 'e', 'f', 'g', 'h', 'i']"
      ]
     },
     "execution_count": 17,
     "metadata": {},
     "output_type": "execute_result"
    }
   ],
   "source": [
    "my_list = [_ for _ in 'abcdefghi']\n",
    "my_list\n",
    "['a', 'b', 'c', 'd', 'e', 'f', 'g', 'h', 'i']"
   ]
  },
  {
   "cell_type": "code",
   "execution_count": null,
   "id": "563948a2",
   "metadata": {},
   "outputs": [],
   "source": [
    "my_list[start:stop]"
   ]
  },
  {
   "cell_type": "markdown",
   "id": "e7e1a9b8",
   "metadata": {},
   "source": [
    "where start is the index of the first element to include, and stop is the index of the item to stop at without including it in the slice. So my_list[1:5] returns ['b', 'c', 'd', 'e']:\n",
    "\n",
    "0 1 2 3 4 5 6 7 8 × ↓ ↓ ↓ ↓ × × × × ['a', 'b', 'c', 'd', 'e', 'f', 'g', 'h', 'i']"
   ]
  },
  {
   "cell_type": "code",
   "execution_count": 19,
   "id": "9144c472",
   "metadata": {},
   "outputs": [
    {
     "data": {
      "text/plain": [
       "['a', 'b', 'c', 'd']"
      ]
     },
     "execution_count": 19,
     "metadata": {},
     "output_type": "execute_result"
    }
   ],
   "source": [
    "my_list[5:]\n",
    "['f', 'g', 'h', 'i']\n",
    "my_list[:4]\n",
    "['a', 'b', 'c', 'd']"
   ]
  },
  {
   "cell_type": "markdown",
   "id": "fd6aea4e",
   "metadata": {},
   "source": [
    "## Q5. What is an indexed character's exact data type? What is the data form of a slicing-generated substring?"
   ]
  },
  {
   "cell_type": "code",
   "execution_count": null,
   "id": "80b2cdb1",
   "metadata": {},
   "outputs": [],
   "source": [
    "Indexed character's exact data type is str\n",
    "The data form of a slicing-generated substring is list"
   ]
  },
  {
   "cell_type": "markdown",
   "id": "ea116b4a",
   "metadata": {},
   "source": [
    "## Q6. What is the relationship between string and character \"types\" in Python?"
   ]
  },
  {
   "cell_type": "markdown",
   "id": "072d8f0b",
   "metadata": {},
   "source": [
    "Strings are defined as an array of characters. The difference between a character array and a string is the string is terminated with a special character '\\0'. Declaring a string is as simple as declaring a one dimensional array. Below is the basic syntax for declaring a string in python programming language\n",
    "\n",
    "\"python str\" should lead you to the official python.org string methods which lists all the str methods. Python does not have a separate character type. Instead an expression like s[8] returns a string-length-1 containing the character.\n",
    "\n",
    "Individual characters in a string can be accessed by specifying the string name followed by a number in square brackets ( [] ). String indexing in Python is zero-based: the first character in the string has index 0 , the next has index 1 , and so on."
   ]
  },
  {
   "cell_type": "markdown",
   "id": "8584c28d",
   "metadata": {},
   "source": [
    "## Q7. Identify at least two operators and one method that allow you to combine one or more smaller strings to create a larger string."
   ]
  },
  {
   "cell_type": "markdown",
   "id": "6d6174a4",
   "metadata": {},
   "source": [
    "Using the % operator\n",
    "\n",
    "The modulus operator (“%”) can be used for both string formatting and string concatenation. It is useful for cases in which you need to combine strings and also perform basic formatting.\n",
    "\n",
    "An example to illustrate concatenation of string using “%” operator:"
   ]
  },
  {
   "cell_type": "code",
   "execution_count": 20,
   "id": "945bc995",
   "metadata": {},
   "outputs": [
    {
     "name": "stdout",
     "output_type": "stream",
     "text": [
      "Apple Shake\n"
     ]
    }
   ],
   "source": [
    "a = 'Apple' \n",
    "b = 'Shake'\n",
    "print('% s % s' % (a, b)) "
   ]
  },
  {
   "cell_type": "markdown",
   "id": "eea5077f",
   "metadata": {},
   "source": [
    "Using the f-string\n",
    "\n",
    "Formatted string literals or f-strings, in short, are string literals in Python. They contain an f at the beginning and curly braces that contain the expressions. It calls the str() method when an object argument is used as field replacement.\n",
    "\n",
    "Let us see an example to illustrate the concatenation of string using f-string:"
   ]
  },
  {
   "cell_type": "code",
   "execution_count": 21,
   "id": "ec36fe9c",
   "metadata": {},
   "outputs": [
    {
     "name": "stdout",
     "output_type": "stream",
     "text": [
      "Moscow Mule\n"
     ]
    }
   ],
   "source": [
    "a = 'Moscow' \n",
    "b = 'Mule'\n",
    "print(f'{a} {b}') "
   ]
  },
  {
   "cell_type": "markdown",
   "id": "73bf9240",
   "metadata": {},
   "source": [
    "## Q8. What is the benefit of first checking the target string with in or not in before using the index method to find a substring?"
   ]
  },
  {
   "cell_type": "markdown",
   "id": "01a6eea1",
   "metadata": {},
   "source": [
    "Given two strings s1 and s2, find if s1 is a substring of s2. If yes, return the index of the first occurrence, else return -1.\n",
    "\n",
    "Examples :\n",
    "\n",
    "Input: s1 = \"for\", s2 = \"geeksforgeeks\" Output: 5 Explanation: String \"for\" is present as a substring of s2.\n",
    "\n",
    "Input: s1 = \"practice\", s2 = \"geeksforgeeks\" Output: -1. Explanation: There is no occurrence of \"practice\" in \"geeksforgeeks\" Explanation: String \"for\" is present as a substring of s2.\n",
    "\n",
    "Input: s1 = \"practice\", s2 = \"geeksforgeeks\" Output: -1. Explanation: There is no occurrence of \"practice\" in \"geeksforgeeks\"\n",
    "\n",
    "Simple Approach: The idea is to run a loop from start to end and for every index in the given string check whether the sub-string can be formed from that index. This can be done by running a nested loop traversing the given string and in that loop run another loop checking for sub-string from every index. For example, consider there to be a string of length N and a substring of length M. Then run a nested loop, where the outer loop runs from 0 to (N-M) and the inner loop from 0 to M. For very index check if the sub-string traversed by the inner loop is the given sub-string or not."
   ]
  },
  {
   "cell_type": "code",
   "execution_count": null,
   "id": "252ee09a",
   "metadata": {},
   "outputs": [],
   "source": [
    "def isSubstring(s1, s2):\n",
    "    M = len(s1)\n",
    "    N = len(s2)\n",
    "    for i in range(N - M + 1):\n",
    "        for j in range(M):\n",
    "            if (s2[i + j] != s1[j]):\n",
    "                break             \n",
    "        if j + 1 == M :\n",
    "            return i \n",
    "    return -1\n",
    "if __name__ == \"__main__\":\n",
    "    s1 = \"for\"\n",
    "    s2 = \"geeksforgeeks\"\n",
    "    res = isSubstring(s1, s2)\n",
    "    if res == -1 :\n",
    "        print(\"Not present\")\n",
    "    else:\n",
    "        print(\"Present at index \" + str(res))"
   ]
  }
 ],
 "metadata": {
  "kernelspec": {
   "display_name": "Python 3",
   "language": "python",
   "name": "python3"
  },
  "language_info": {
   "codemirror_mode": {
    "name": "ipython",
    "version": 3
   },
   "file_extension": ".py",
   "mimetype": "text/x-python",
   "name": "python",
   "nbconvert_exporter": "python",
   "pygments_lexer": "ipython3",
   "version": "3.8.8"
  }
 },
 "nbformat": 4,
 "nbformat_minor": 5
}
