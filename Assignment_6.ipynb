{
 "cells": [
  {
   "cell_type": "markdown",
   "id": "36d5957a",
   "metadata": {},
   "source": [
    "# Python Advanced Assignment 06"
   ]
  },
  {
   "cell_type": "markdown",
   "id": "1793c4fb",
   "metadata": {},
   "source": [
    "##  Q1. Describe three applications for exception processing."
   ]
  },
  {
   "cell_type": "markdown",
   "id": "3e9ece0d",
   "metadata": {},
   "source": [
    "Purpose\n",
    "Exception handling ensures that the flow of the program doesn't break when an exception occurs. For example, if a program has bunch of statements and an exception occurs mid way after executing certain statements then the statements after the exception will not execute and the program will terminate abruptly.\n",
    "\n",
    "Advantages of Exceptions\n",
    "Advantage 1: Separating Error-Handling Code from \"Regular\" Code\n",
    "\n",
    "Advantage 2: Propagating Errors Up the Call Stack\n",
    "\n",
    "Advantage 3: Grouping and Differentiating Error Types"
   ]
  },
  {
   "cell_type": "markdown",
   "id": "470c06ea",
   "metadata": {},
   "source": [
    "## Q2. What happens if you don't do something extra to treat an exception?"
   ]
  },
  {
   "cell_type": "markdown",
   "id": "d1180878",
   "metadata": {},
   "source": [
    "An exception is an event, which occurs during the execution of a program that disrupts the normal flow of the program's instructions. In general, when a Python script encounters a situation that it cannot cope with, it raises an exception. An exception is a Python object that represents an error.\n",
    "\n",
    "When a Python script raises an exception, it must either handle the exception immediately otherwise it terminates and quits.\n",
    "\n",
    "Handling an exception If you have some suspicious code that may raise an exception, you can defend your program by placing the suspicious code in a try: block. After the try: block, include an except: statement, followed by a block of code which handles the problem as elegantly as possible.\n",
    "\n",
    "if you don’t handle exceptions\n",
    "\n",
    "When an exception occurred, if you don’t handle it, the program terminates abruptly and the code past the line that caused the exception will not get executed."
   ]
  },
  {
   "cell_type": "markdown",
   "id": "44dc37a4",
   "metadata": {},
   "source": [
    "## Q3. What are your options for recovering from an exception in your script?"
   ]
  },
  {
   "cell_type": "markdown",
   "id": "c58be538",
   "metadata": {},
   "source": [
    "To recover from an exception we call Script Callback Functions (For unanticipated exceptions, override Sahi's callback functions to recover.)"
   ]
  },
  {
   "cell_type": "markdown",
   "id": "e9a5d34c",
   "metadata": {},
   "source": [
    "## Q4. Describe two methods for triggering exceptions in your script."
   ]
  },
  {
   "cell_type": "markdown",
   "id": "cb1a8c94",
   "metadata": {},
   "source": [
    "Triggering Exceptions in Python\n",
    "\n",
    "A direct logic is followed to catch exceptions in Python. When an exception occurs, the Python interpreter stops the current process. It is handled by passing through the calling process. If not, the program will crash.\n",
    "\n",
    "For instance, a Python program has a function X that calls function Y, which in turn calls function Z. If an exception exists in function Z but is not handled within Z, the exception passes to Y and then to X. Simply, it will have a domino effect.\n",
    "\n",
    "An unhandled exception displays an error message and the program suddenly crashes. To avoid such a scenario, there are two methods to handle Python exceptions:\n",
    "\n",
    "Try – This method catches the exceptions raised by the program Raise – Triggers an exception manually using custom exceptions"
   ]
  },
  {
   "cell_type": "markdown",
   "id": "8b4c62e0",
   "metadata": {},
   "source": [
    "## Q5. Identify two methods for specifying actions to be executed at termination time, regardless of whether or not an exception exists."
   ]
  },
  {
   "cell_type": "markdown",
   "id": "86cd6d9d",
   "metadata": {},
   "source": [
    "Finally Statement in Python\n",
    "Finally block always executes irrespective of an exception being thrown or not. The final keyword allows you to create a block of code that follows a try-catch block.\n",
    "\n",
    "Finally, clause is optional. It is intended to define clean-up actions which should be that executed in all conditions."
   ]
  },
  {
   "cell_type": "code",
   "execution_count": null,
   "id": "22565342",
   "metadata": {},
   "outputs": [],
   "source": [
    "try:\n",
    "    raise KeyboardInterrupt\n",
    "finally:\n",
    "    print 'welcome, world!'\n",
    "Output\n",
    "Welcome, world!\n",
    "KeyboardInterrupt"
   ]
  },
  {
   "cell_type": "markdown",
   "id": "4f8e4648",
   "metadata": {},
   "source": [
    "Finally, clause is executed before try statement.\n",
    "\n",
    "Raise Statement in Python\n",
    "\n",
    "The raise statement specifies an argument which initializes the exception object. Here, a comma follows the exception name, and argument or tuple of the argument that follows the comma."
   ]
  },
  {
   "cell_type": "code",
   "execution_count": null,
   "id": "a868e988",
   "metadata": {},
   "outputs": [],
   "source": [
    "raise [Exception [, args [, traceback]]]"
   ]
  },
  {
   "cell_type": "markdown",
   "id": "e5f7a2ba",
   "metadata": {},
   "source": [
    "In this syntax, the argument is optional, and at the time of execution, the exception argument value is always none."
   ]
  }
 ],
 "metadata": {
  "kernelspec": {
   "display_name": "Python 3",
   "language": "python",
   "name": "python3"
  },
  "language_info": {
   "codemirror_mode": {
    "name": "ipython",
    "version": 3
   },
   "file_extension": ".py",
   "mimetype": "text/x-python",
   "name": "python",
   "nbconvert_exporter": "python",
   "pygments_lexer": "ipython3",
   "version": "3.8.8"
  }
 },
 "nbformat": 4,
 "nbformat_minor": 5
}
