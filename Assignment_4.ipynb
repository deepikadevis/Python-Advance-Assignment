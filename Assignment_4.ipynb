{
 "cells": [
  {
   "cell_type": "markdown",
   "id": "35de9d6d",
   "metadata": {},
   "source": [
    "# Python Advanced Assignment 04"
   ]
  },
  {
   "cell_type": "markdown",
   "id": "c1bf3d99",
   "metadata": {},
   "source": [
    "##  Q1. Which two operator overloading methods can you use in your classes to support iteration?"
   ]
  },
  {
   "cell_type": "markdown",
   "id": "d3a0dc66",
   "metadata": {},
   "source": [
    "Iterator in python is an object that is used to iterate over iterable objects like lists, tuples, dicts, and sets. The iterator object is initialized using the iter() method. It uses the next() method for iteration.\n",
    "\n",
    "iter(iterable) method that is called for the initialization of an iterator. This returns an iterator object\n",
    "\n",
    "next ( next in Python 3) The next method returns the next value for the iterable. When we use a for loop to traverse any iterable object, internally it uses the iter() method to get an iterator object which further uses next() method to iterate over. This method raises a StopIteration to signal the end of the iteration.\n",
    "\n",
    "How an iterator really works in python"
   ]
  },
  {
   "cell_type": "code",
   "execution_count": 33,
   "id": "98b8b60b",
   "metadata": {},
   "outputs": [
    {
     "name": "stdout",
     "output_type": "stream",
     "text": [
      "d\n",
      "e\n",
      "e\n",
      "p\n",
      "i\n",
      "k\n",
      "a\n"
     ]
    }
   ],
   "source": [
    "iterable_value = 'deepika'\n",
    "iterable_obj = iter(iterable_value)\n",
    "\n",
    "while True:\n",
    "    try:\n",
    "        item = next(iterable_obj)\n",
    "        print(item)\n",
    "    except StopIteration:\n",
    "        break"
   ]
  },
  {
   "cell_type": "markdown",
   "id": "a49d8c59",
   "metadata": {},
   "source": [
    "Below is a simple Python custom iterator that creates iterator type that iterates from 10 to a given limit. For example, if the limit is 15, then it prints 10 11 12 13 14 15. And if the limit is 5, then it prints nothing"
   ]
  },
  {
   "cell_type": "code",
   "execution_count": 34,
   "id": "a5730126",
   "metadata": {},
   "outputs": [
    {
     "name": "stdout",
     "output_type": "stream",
     "text": [
      "10\n",
      "11\n",
      "12\n",
      "13\n",
      "14\n",
      "15\n"
     ]
    }
   ],
   "source": [
    "class Test:\n",
    "\n",
    "    def __init__(self, limit):\n",
    "        self.limit = limit\n",
    "    def __iter__(self):\n",
    "        self.x = 10\n",
    "        return self\n",
    "\n",
    "    def __next__(self):\n",
    "\n",
    "        x = self.x\n",
    "        if x > self.limit:\n",
    "            raise StopIteration\n",
    "        self.x = x + 1;\n",
    "        return x\n",
    "    \n",
    "for i in Test(15):\n",
    "    print(i)\n",
    "\n",
    "for i in Test(5):\n",
    "    print(i)"
   ]
  },
  {
   "cell_type": "markdown",
   "id": "9e40ddbb",
   "metadata": {},
   "source": [
    "## Q2. In what contexts do the two operator overloading methods manage printing?"
   ]
  },
  {
   "attachments": {
    "image.png": {
     "image/png": "[encoded data removed]"
    }
   },
   "cell_type": "markdown",
   "id": "adde49ca",
   "metadata": {},
   "source": [
    "You’ll find various python operators and their magic methods in the table below.\n",
    "\n",
    "![image.png](attachment:image.png)"
   ]
  },
  {
   "cell_type": "markdown",
   "id": "575db29b",
   "metadata": {},
   "source": [
    "## Q3. In a class, how do you intercept slice operations?"
   ]
  },
  {
   "cell_type": "markdown",
   "id": "dd3c20a0",
   "metadata": {},
   "source": [
    "It's because one needs to define something that is NOT done in the base-class' init , and the only possibility to obtain that is to put its execution in a derived-class' init function."
   ]
  },
  {
   "cell_type": "code",
   "execution_count": null,
   "id": "dcaa027c",
   "metadata": {},
   "outputs": [],
   "source": [
    "class InterceptedList(list):\n",
    "    def addSave(func):\n",
    "        def newfunc(self, *args):\n",
    "            func(self, *args)\n",
    "            print ('saving')\n",
    "        return newfunc\n",
    "\n",
    "__setslice__ = addSave(list.__setslice__)\n",
    "__delslice__ = addSave(list.__delslice__)\n",
    "    \n",
    "    \n",
    "l = InterceptedList()\n",
    "l.extend([1,2,3,4])\n",
    "\n",
    "\n",
    "l[3:] = [5]"
   ]
  },
  {
   "cell_type": "markdown",
   "id": "774831f7",
   "metadata": {},
   "source": [
    "Python slice() function returns a slice object.\n",
    "\n",
    "A sequence of objects of any type(string, bytes, tuple, list or range) or the object which implements getitem() and len() method then this object can be sliced using slice() method.\n",
    "\n",
    "Syntax:\n",
    "\n",
    "slice(stop)\n",
    "\n",
    "slice(start, stop, step)\n",
    "\n",
    "Parameters:\n",
    "\n",
    "start: Starting index where the slicing of object starts.\n",
    "\n",
    "stop: Ending index where the slicing of object stops.\n",
    "\n",
    "step: It is an optional argument that determines the increment between each index for slicing. Return Type: Returns a sliced object containing elements in the given range only.\n",
    "\n",
    "Note: If only one parameter is passed then start and step is considered to be None.\n"
   ]
  },
  {
   "cell_type": "code",
   "execution_count": 36,
   "id": "27c56266",
   "metadata": {},
   "outputs": [
    {
     "name": "stdout",
     "output_type": "stream",
     "text": [
      "String slicing\n",
      "iNe\n",
      "Nu\n"
     ]
    }
   ],
   "source": [
    "String = 'iNeuron.ai'\n",
    "s1 = slice(3)\n",
    "s2 = slice(1, 5, 2)\n",
    "\n",
    "print(\"String slicing\")\n",
    "print(String[s1])\n",
    "print(String[s2])"
   ]
  },
  {
   "cell_type": "markdown",
   "id": "7db9192d",
   "metadata": {},
   "source": [
    "## Q4. In a class, how do you capture in-place addition?"
   ]
  },
  {
   "cell_type": "markdown",
   "id": "2a20c878",
   "metadata": {},
   "source": [
    "Python in its definition provides methods to perform inplace operations, i.e doing assignment and computation in a single statement using “operator” module. For example,\n",
    "\n",
    "x += y is equivalent to x = operator.iadd(x, y)\n",
    "\n",
    "Some Important Inplace operations :\n",
    "\n",
    "iadd() :- This function is used to assign and add the current value. This operation does “a+=b” operation. Assigning is not performed in case of immutable containers, such as strings, numbers and tuples.\n",
    "\n",
    "iconcat() :- This function is used to concat one string at end of second.\n",
    "\n",
    "isub() :- This function is used to assign and subtract the current value. This operation does “a-=b” operation. Assigning is not performed in case of immutable containers, such as strings, numbers and tuples.\n",
    "\n",
    "imul() :- This function is used to assign and multiply the current value. This operation does “a*=b” operation. Assigning is not performed in case of immutable containers, such as strings, numbers and tuples.\n",
    "\n",
    "itruediv() :- This function is used to assign and divide the current value. This operation does “a/=b” operation. Assigning is not performed in case of immutable containers, such as strings, numbers and tuples.\n",
    "\n",
    "imod() :- This function is used to assign and return remainder . This operation does “a%=b” operation. Assigning is not performed in case of immutable containers, such as strings, numbers and tuples."
   ]
  },
  {
   "cell_type": "markdown",
   "id": "0ef6906c",
   "metadata": {},
   "source": [
    "## Q5. When is it appropriate to use operator overloading?"
   ]
  },
  {
   "cell_type": "markdown",
   "id": "af1ab1b1",
   "metadata": {},
   "source": [
    "Operator overloading is mostly useful when you're making a new class that falls into an existing \"Abstract Base Class\" (ABC) -- indeed, many of the ABCs in standard library module collections rely on the presence of certain special methods (and special methods, one with names starting and ending with double underscores AKA \"dunders\", are exactly the way you perform operator overloading in Python). This provides good starting guidance.\n",
    "\n",
    "For example, a Container class must override special method contains, i.e., the membership check operator item in container (as in, if item in container: -- don't confuse with the for statement, for item in container:, which relies on iter!-). Similarly, a Hashable must override hash, a Sized must override len, a Sequence or a Mapping must override getitem, and so forth. (Moreover, the ABCs can provide your class with mixin functionality -- e.g., both Sequence and Mapping can provide contains on the basis of your supplied getitem override, and thereby automatically make your class a Container)."
   ]
  }
 ],
 "metadata": {
  "kernelspec": {
   "display_name": "Python 3",
   "language": "python",
   "name": "python3"
  },
  "language_info": {
   "codemirror_mode": {
    "name": "ipython",
    "version": 3
   },
   "file_extension": ".py",
   "mimetype": "text/x-python",
   "name": "python",
   "nbconvert_exporter": "python",
   "pygments_lexer": "ipython3",
   "version": "3.8.8"
  }
 },
 "nbformat": 4,
 "nbformat_minor": 5
}
