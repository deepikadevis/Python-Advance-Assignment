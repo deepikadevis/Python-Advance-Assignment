{
 "cells": [
  {
   "cell_type": "markdown",
   "id": "c55d57cb",
   "metadata": {},
   "source": [
    "# Python Advanced Assignment 11"
   ]
  },
  {
   "cell_type": "markdown",
   "id": "48b160dd",
   "metadata": {},
   "source": [
    "##  Q1. What is the concept of a metaclass?"
   ]
  },
  {
   "cell_type": "markdown",
   "id": "d6a77141",
   "metadata": {},
   "source": [
    "A metaclass in Python is a class of a class that defines how a class behaves. A class is itself an instance of a metaclass. A class in Python defines how the instance of the class will behave. In order to understand metaclasses well, one needs to have prior experience working with Python classes. Before we dive deeper into metaclasses, let's get a few concepts out of the way."
   ]
  },
  {
   "cell_type": "markdown",
   "id": "1368e0d2",
   "metadata": {},
   "source": [
    "## Q2. What is the best way to declare a class's metaclass?"
   ]
  },
  {
   "cell_type": "markdown",
   "id": "48bf18e0",
   "metadata": {},
   "source": [
    "At first, the word Metaprogramming seems like a very funky and alien thing but if you have ever worked with decorators or metaclasses, you were doing metaprogramming there all along. In a nutshell, we can say metaprogramming is the code that manipulates code. In this article, we are going to discuss Metaclasses, why and when we should use them, and what are the alternatives. This is a fairly advance Python topic and the following prerequisite is expected –\n",
    "\n",
    "OOP concept in Python\n",
    "\n",
    "Decorators in Python\n"
   ]
  },
  {
   "cell_type": "markdown",
   "id": "94f7a5ff",
   "metadata": {},
   "source": [
    "## Q3. How do class decorators overlap with metaclasses for handling classes?"
   ]
  },
  {
   "cell_type": "markdown",
   "id": "fef579aa",
   "metadata": {},
   "source": [
    "A decorator is a function that takes a function as its only parameter and returns a function. This is helpful to “wrap” functionality with the same code over and over again. For example, above code can be re-written as following."
   ]
  },
  {
   "cell_type": "code",
   "execution_count": 6,
   "id": "9fa139df",
   "metadata": {},
   "outputs": [
    {
     "name": "stdout",
     "output_type": "stream",
     "text": [
      "Welcome to iNeuron\n"
     ]
    }
   ],
   "source": [
    "def decorate_message(fun):\n",
    "    def addWelcome(site_name):\n",
    "        return \"Welcome to \" + fun(site_name)\n",
    "    return addWelcome\n",
    "@decorate_message\n",
    "def site(site_name):\n",
    "    return site_name;\n",
    "print (site(\"iNeuron\"))"
   ]
  },
  {
   "cell_type": "code",
   "execution_count": null,
   "id": "c3e1dd5d",
   "metadata": {},
   "outputs": [],
   "source": []
  }
 ],
 "metadata": {
  "kernelspec": {
   "display_name": "Python 3",
   "language": "python",
   "name": "python3"
  },
  "language_info": {
   "codemirror_mode": {
    "name": "ipython",
    "version": 3
   },
   "file_extension": ".py",
   "mimetype": "text/x-python",
   "name": "python",
   "nbconvert_exporter": "python",
   "pygments_lexer": "ipython3",
   "version": "3.8.8"
  }
 },
 "nbformat": 4,
 "nbformat_minor": 5
}
