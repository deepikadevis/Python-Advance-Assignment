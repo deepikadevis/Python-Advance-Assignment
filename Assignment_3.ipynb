{
 "cells": [
  {
   "cell_type": "markdown",
   "id": "f460bdfd",
   "metadata": {},
   "source": [
    "# Python Advanced Assignment 03"
   ]
  },
  {
   "cell_type": "markdown",
   "id": "9c86fae5",
   "metadata": {},
   "source": [
    "##  1. What is the concept of an abstract superclass?"
   ]
  },
  {
   "cell_type": "markdown",
   "id": "5c3d7e10",
   "metadata": {},
   "source": [
    "Abstract Super Class. A common superclass for several subclasses. Factor up common behavior. Define the methods they all respond to. Methods that subclasses should implement are declared abstract.\n",
    "\n",
    "What is the concept of an abstract superclass in Python? An abstract class can be considered as a blueprint for other classes. It allows you to create a set of methods that must be created within any child classes built from the abstract class. A class which contains one or more abstract methods is called an abstract class\n",
    "\n",
    "Super class being an abstract class creates an overhead for all its sub classes to compulsorily define its abstract methods. I understand that it's very basic but I need to know why do programmers usually make super class as an abstract class, though we can do similar things using a super class as a non abstract class.\n",
    "\n",
    "An abstract superclass is one way to provide re-usable code.\n",
    "\n",
    "You can extend the abstract class and inherit the code. This is sometimes more convenient than using static methods or object composition to share code.\n",
    "\n",
    "The abstract class can \"fix\" parts of the code (by making it final). This is called the \"template method\" pattern (and this is not possible with an interface, which cannot provide final methods).\n",
    "\n",
    "Of course, you can achieve both with a non-abstract superclass as well.\n",
    "\n",
    "An abstract class has the additional benefit that it does not have to provide a complete implementation (that would make sense to instantiate on its own), some parts can be left specified, but unimplemented (the abstract methods)."
   ]
  },
  {
   "cell_type": "markdown",
   "id": "b8502cf2",
   "metadata": {},
   "source": [
    "## 2. What happens when a class statement's top level contains a basic assignment statement?"
   ]
  },
  {
   "cell_type": "markdown",
   "id": "43548784",
   "metadata": {},
   "source": [
    "An assignment statement evaluates the expression list (remember that this can be a single expression or a comma-separated list, the latter yielding a tuple) and assigns the single resulting object to each of the target lists, from left to right.\n",
    "\n",
    "In computer programming, an assignment statement sets and/or re-sets the value stored in the storage location(s) denoted by a variable name; in other words, it copies a value into the variable.\n",
    "\n",
    "An assignment statement stores a value in a variable.\n",
    "\n",
    "variableName = 6"
   ]
  },
  {
   "cell_type": "markdown",
   "id": "fcc5020d",
   "metadata": {},
   "source": [
    "## 3. Why does a class need to manually call a superclass's init method?"
   ]
  },
  {
   "cell_type": "markdown",
   "id": "67d9431f",
   "metadata": {},
   "source": [
    "It's because one needs to define something that is NOT done in the base-class' init , and the only possibility to obtain that is to put its execution in a derived-class' init function."
   ]
  },
  {
   "cell_type": "markdown",
   "id": "2bb1db92",
   "metadata": {},
   "source": [
    "## 4. How can you augment, instead of completely replacing, an inherited method?"
   ]
  },
  {
   "cell_type": "markdown",
   "id": "aaafd153",
   "metadata": {},
   "source": [
    "I have a list of Spam objects:"
   ]
  },
  {
   "cell_type": "code",
   "execution_count": 29,
   "id": "7981f2ac",
   "metadata": {},
   "outputs": [],
   "source": [
    "class Spam:\n",
    "    def update(self):\n",
    "        print('updating spam!')"
   ]
  },
  {
   "cell_type": "markdown",
   "id": "310c6cc3",
   "metadata": {},
   "source": [
    "some of them might be SpamLite objects:"
   ]
  },
  {
   "cell_type": "code",
   "execution_count": 30,
   "id": "6ffe517e",
   "metadata": {},
   "outputs": [],
   "source": [
    "class SpamLite(Spam):\n",
    "    def update(self):\n",
    "        print('this spam is lite!')\n",
    "        Spam.update(self)"
   ]
  },
  {
   "cell_type": "markdown",
   "id": "82de64af",
   "metadata": {},
   "source": [
    "I would like to be able to take an arbitrary object from the list, and add something to it's update method, something like:"
   ]
  },
  {
   "cell_type": "code",
   "execution_count": 31,
   "id": "e87ff6b2",
   "metadata": {},
   "outputs": [],
   "source": [
    "def poison(spam):\n",
    "    tmp = spam.update \n",
    "    def newUpdate(self):\n",
    "        print ('this spam has been poisoned!')\n",
    "        tmp(self)\n",
    "    spam.update = newUpdate"
   ]
  },
  {
   "cell_type": "markdown",
   "id": "076923a7",
   "metadata": {},
   "source": [
    "## 5. How is the local scope of a class different from that of a function?"
   ]
  },
  {
   "cell_type": "markdown",
   "id": "d7848bb5",
   "metadata": {},
   "source": [
    "Local variables have Function Scope: They can only be accessed from within the function. Since local variables are only recognized inside their functions, variables with the same name can be used in different functions. Local variables are created when a function starts, and deleted when the function is completed.\n",
    "\n",
    "A variable's scope is the range of the script where it is visible. Variables have either global or local scope. A global variable exists only once in a script, and is visible in every function. A local variable, however, has a limited scope: it exists only within the block that it is declared in.\n",
    "\n",
    "Global variables are variables declared outside a function. Local variables are variables declared inside a function. While global variables cannot be directly changed in a function, you can use the global keyword to create a function that will change the value of a global variable"
   ]
  }
 ],
 "metadata": {
  "kernelspec": {
   "display_name": "Python 3",
   "language": "python",
   "name": "python3"
  },
  "language_info": {
   "codemirror_mode": {
    "name": "ipython",
    "version": 3
   },
   "file_extension": ".py",
   "mimetype": "text/x-python",
   "name": "python",
   "nbconvert_exporter": "python",
   "pygments_lexer": "ipython3",
   "version": "3.8.8"
  }
 },
 "nbformat": 4,
 "nbformat_minor": 5
}
